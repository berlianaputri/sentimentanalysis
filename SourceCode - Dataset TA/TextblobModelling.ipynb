{
 "cells": [
  {
   "cell_type": "code",
   "execution_count": 7,
   "metadata": {},
   "outputs": [],
   "source": [
    "import pandas as pd\n",
    "import numpy as np\n",
    "from sklearn import svm\n",
    "import matplotlib.pyplot as plt\n",
    "import seaborn as sns\n",
    "import sklearn.metrics as metrics"
   ]
  },
  {
   "cell_type": "code",
   "execution_count": 8,
   "metadata": {},
   "outputs": [],
   "source": [
    "def load_dataset():\n",
    "    data = pd.read_csv('textblob_dataset.csv')\n",
    "    return data"
   ]
  },
  {
   "cell_type": "code",
   "execution_count": 9,
   "metadata": {},
   "outputs": [],
   "source": [
    "tweet_df = load_dataset()\n",
    "df = pd.DataFrame(tweet_df)"
   ]
  },
  {
   "cell_type": "code",
   "execution_count": 10,
   "metadata": {},
   "outputs": [
    {
     "data": {
      "text/html": [
       "<div>\n",
       "<style scoped>\n",
       "    .dataframe tbody tr th:only-of-type {\n",
       "        vertical-align: middle;\n",
       "    }\n",
       "\n",
       "    .dataframe tbody tr th {\n",
       "        vertical-align: top;\n",
       "    }\n",
       "\n",
       "    .dataframe thead th {\n",
       "        text-align: right;\n",
       "    }\n",
       "</style>\n",
       "<table border=\"1\" class=\"dataframe\">\n",
       "  <thead>\n",
       "    <tr style=\"text-align: right;\">\n",
       "      <th></th>\n",
       "      <th>Unnamed: 0</th>\n",
       "      <th>timestamp</th>\n",
       "      <th>tweet</th>\n",
       "      <th>sentiment</th>\n",
       "    </tr>\n",
       "  </thead>\n",
       "  <tbody>\n",
       "    <tr>\n",
       "      <th>0</th>\n",
       "      <td>0</td>\n",
       "      <td>2022-05-15 06:12:25+00:00</td>\n",
       "      <td>i-i haven t had the booster vaccine yet</td>\n",
       "      <td>Negative</td>\n",
       "    </tr>\n",
       "    <tr>\n",
       "      <th>1</th>\n",
       "      <td>1</td>\n",
       "      <td>2022-05-19 09:35:16+00:00</td>\n",
       "      <td>aa already has the booster vaccine you can t s...</td>\n",
       "      <td>Negative</td>\n",
       "    </tr>\n",
       "    <tr>\n",
       "      <th>2</th>\n",
       "      <td>2</td>\n",
       "      <td>2022-05-19 10:00:50+00:00</td>\n",
       "      <td>amen allahumma amen for the prayers for the fa...</td>\n",
       "      <td>Positive</td>\n",
       "    </tr>\n",
       "    <tr>\n",
       "      <th>3</th>\n",
       "      <td>3</td>\n",
       "      <td>2022-03-03 06:31:44+00:00</td>\n",
       "      <td>amen tomorrow is a booster vaccine even though</td>\n",
       "      <td>Negative</td>\n",
       "    </tr>\n",
       "    <tr>\n",
       "      <th>4</th>\n",
       "      <td>4</td>\n",
       "      <td>2022-03-03 09:22:40+00:00</td>\n",
       "      <td>amen go home take a break immediately sis when...</td>\n",
       "      <td>Negative</td>\n",
       "    </tr>\n",
       "    <tr>\n",
       "      <th>...</th>\n",
       "      <td>...</td>\n",
       "      <td>...</td>\n",
       "      <td>...</td>\n",
       "      <td>...</td>\n",
       "    </tr>\n",
       "    <tr>\n",
       "      <th>4055</th>\n",
       "      <td>4055</td>\n",
       "      <td>2022-05-14 09:51:38+00:00</td>\n",
       "      <td>let s get vaccine booster ampoule url</td>\n",
       "      <td>Negative</td>\n",
       "    </tr>\n",
       "    <tr>\n",
       "      <th>4056</th>\n",
       "      <td>4056</td>\n",
       "      <td>2022-03-03 03:00:35+00:00</td>\n",
       "      <td>let s vaccine booster url</td>\n",
       "      <td>Negative</td>\n",
       "    </tr>\n",
       "    <tr>\n",
       "      <th>4057</th>\n",
       "      <td>4057</td>\n",
       "      <td>2021-11-25 06:57:09+00:00</td>\n",
       "      <td>yes yes yes yes kookmin jikook short au people...</td>\n",
       "      <td>Positive</td>\n",
       "    </tr>\n",
       "    <tr>\n",
       "      <th>4058</th>\n",
       "      <td>4058</td>\n",
       "      <td>2022-03-03 06:57:02+00:00</td>\n",
       "      <td>yes you are free to choose any booster vaccine...</td>\n",
       "      <td>Positive</td>\n",
       "    </tr>\n",
       "    <tr>\n",
       "      <th>4059</th>\n",
       "      <td>4059</td>\n",
       "      <td>2021-11-25 06:36:53+00:00</td>\n",
       "      <td>zoo knows that the cat hotel in bandung is not...</td>\n",
       "      <td>Negative</td>\n",
       "    </tr>\n",
       "  </tbody>\n",
       "</table>\n",
       "<p>4060 rows × 4 columns</p>\n",
       "</div>"
      ],
      "text/plain": [
       "      Unnamed: 0                  timestamp  \\\n",
       "0              0  2022-05-15 06:12:25+00:00   \n",
       "1              1  2022-05-19 09:35:16+00:00   \n",
       "2              2  2022-05-19 10:00:50+00:00   \n",
       "3              3  2022-03-03 06:31:44+00:00   \n",
       "4              4  2022-03-03 09:22:40+00:00   \n",
       "...          ...                        ...   \n",
       "4055        4055  2022-05-14 09:51:38+00:00   \n",
       "4056        4056  2022-03-03 03:00:35+00:00   \n",
       "4057        4057  2021-11-25 06:57:09+00:00   \n",
       "4058        4058  2022-03-03 06:57:02+00:00   \n",
       "4059        4059  2021-11-25 06:36:53+00:00   \n",
       "\n",
       "                                                  tweet sentiment  \n",
       "0               i-i haven t had the booster vaccine yet  Negative  \n",
       "1     aa already has the booster vaccine you can t s...  Negative  \n",
       "2     amen allahumma amen for the prayers for the fa...  Positive  \n",
       "3        amen tomorrow is a booster vaccine even though  Negative  \n",
       "4     amen go home take a break immediately sis when...  Negative  \n",
       "...                                                 ...       ...  \n",
       "4055              let s get vaccine booster ampoule url  Negative  \n",
       "4056                          let s vaccine booster url  Negative  \n",
       "4057  yes yes yes yes kookmin jikook short au people...  Positive  \n",
       "4058  yes you are free to choose any booster vaccine...  Positive  \n",
       "4059  zoo knows that the cat hotel in bandung is not...  Negative  \n",
       "\n",
       "[4060 rows x 4 columns]"
      ]
     },
     "execution_count": 10,
     "metadata": {},
     "output_type": "execute_result"
    }
   ],
   "source": [
    "df"
   ]
  },
  {
   "cell_type": "code",
   "execution_count": 11,
   "metadata": {},
   "outputs": [
    {
     "data": {
      "text/html": [
       "<div>\n",
       "<style scoped>\n",
       "    .dataframe tbody tr th:only-of-type {\n",
       "        vertical-align: middle;\n",
       "    }\n",
       "\n",
       "    .dataframe tbody tr th {\n",
       "        vertical-align: top;\n",
       "    }\n",
       "\n",
       "    .dataframe thead th {\n",
       "        text-align: right;\n",
       "    }\n",
       "</style>\n",
       "<table border=\"1\" class=\"dataframe\">\n",
       "  <thead>\n",
       "    <tr style=\"text-align: right;\">\n",
       "      <th></th>\n",
       "      <th>tweet</th>\n",
       "      <th>sentiment</th>\n",
       "    </tr>\n",
       "  </thead>\n",
       "  <tbody>\n",
       "    <tr>\n",
       "      <th>0</th>\n",
       "      <td>i-i haven t had the booster vaccine yet</td>\n",
       "      <td>Negative</td>\n",
       "    </tr>\n",
       "    <tr>\n",
       "      <th>1</th>\n",
       "      <td>aa already has the booster vaccine you can t s...</td>\n",
       "      <td>Negative</td>\n",
       "    </tr>\n",
       "    <tr>\n",
       "      <th>2</th>\n",
       "      <td>amen allahumma amen for the prayers for the fa...</td>\n",
       "      <td>Positive</td>\n",
       "    </tr>\n",
       "    <tr>\n",
       "      <th>3</th>\n",
       "      <td>amen tomorrow is a booster vaccine even though</td>\n",
       "      <td>Negative</td>\n",
       "    </tr>\n",
       "    <tr>\n",
       "      <th>4</th>\n",
       "      <td>amen go home take a break immediately sis when...</td>\n",
       "      <td>Negative</td>\n",
       "    </tr>\n",
       "    <tr>\n",
       "      <th>...</th>\n",
       "      <td>...</td>\n",
       "      <td>...</td>\n",
       "    </tr>\n",
       "    <tr>\n",
       "      <th>4055</th>\n",
       "      <td>let s get vaccine booster ampoule url</td>\n",
       "      <td>Negative</td>\n",
       "    </tr>\n",
       "    <tr>\n",
       "      <th>4056</th>\n",
       "      <td>let s vaccine booster url</td>\n",
       "      <td>Negative</td>\n",
       "    </tr>\n",
       "    <tr>\n",
       "      <th>4057</th>\n",
       "      <td>yes yes yes yes kookmin jikook short au people...</td>\n",
       "      <td>Positive</td>\n",
       "    </tr>\n",
       "    <tr>\n",
       "      <th>4058</th>\n",
       "      <td>yes you are free to choose any booster vaccine...</td>\n",
       "      <td>Positive</td>\n",
       "    </tr>\n",
       "    <tr>\n",
       "      <th>4059</th>\n",
       "      <td>zoo knows that the cat hotel in bandung is not...</td>\n",
       "      <td>Negative</td>\n",
       "    </tr>\n",
       "  </tbody>\n",
       "</table>\n",
       "<p>4060 rows × 2 columns</p>\n",
       "</div>"
      ],
      "text/plain": [
       "                                                  tweet sentiment\n",
       "0               i-i haven t had the booster vaccine yet  Negative\n",
       "1     aa already has the booster vaccine you can t s...  Negative\n",
       "2     amen allahumma amen for the prayers for the fa...  Positive\n",
       "3        amen tomorrow is a booster vaccine even though  Negative\n",
       "4     amen go home take a break immediately sis when...  Negative\n",
       "...                                                 ...       ...\n",
       "4055              let s get vaccine booster ampoule url  Negative\n",
       "4056                          let s vaccine booster url  Negative\n",
       "4057  yes yes yes yes kookmin jikook short au people...  Positive\n",
       "4058  yes you are free to choose any booster vaccine...  Positive\n",
       "4059  zoo knows that the cat hotel in bandung is not...  Negative\n",
       "\n",
       "[4060 rows x 2 columns]"
      ]
     },
     "execution_count": 11,
     "metadata": {},
     "output_type": "execute_result"
    }
   ],
   "source": [
    "df.drop(df.columns[[0,1]], axis=1, inplace=True)\n",
    "df"
   ]
  },
  {
   "cell_type": "code",
   "execution_count": 12,
   "metadata": {},
   "outputs": [],
   "source": [
    "def label(x):\n",
    "    if ( x == 'Positive'):\n",
    "        return 1\n",
    "    else:\n",
    "        return 0\n",
    "df.sentiment = df.sentiment.apply(label)"
   ]
  },
  {
   "cell_type": "code",
   "execution_count": 13,
   "metadata": {},
   "outputs": [
    {
     "data": {
      "text/html": [
       "<div>\n",
       "<style scoped>\n",
       "    .dataframe tbody tr th:only-of-type {\n",
       "        vertical-align: middle;\n",
       "    }\n",
       "\n",
       "    .dataframe tbody tr th {\n",
       "        vertical-align: top;\n",
       "    }\n",
       "\n",
       "    .dataframe thead th {\n",
       "        text-align: right;\n",
       "    }\n",
       "</style>\n",
       "<table border=\"1\" class=\"dataframe\">\n",
       "  <thead>\n",
       "    <tr style=\"text-align: right;\">\n",
       "      <th></th>\n",
       "      <th>tweet</th>\n",
       "      <th>sentiment</th>\n",
       "    </tr>\n",
       "  </thead>\n",
       "  <tbody>\n",
       "    <tr>\n",
       "      <th>0</th>\n",
       "      <td>i-i haven t had the booster vaccine yet</td>\n",
       "      <td>0</td>\n",
       "    </tr>\n",
       "    <tr>\n",
       "      <th>1</th>\n",
       "      <td>aa already has the booster vaccine you can t s...</td>\n",
       "      <td>0</td>\n",
       "    </tr>\n",
       "    <tr>\n",
       "      <th>2</th>\n",
       "      <td>amen allahumma amen for the prayers for the fa...</td>\n",
       "      <td>1</td>\n",
       "    </tr>\n",
       "    <tr>\n",
       "      <th>3</th>\n",
       "      <td>amen tomorrow is a booster vaccine even though</td>\n",
       "      <td>0</td>\n",
       "    </tr>\n",
       "    <tr>\n",
       "      <th>4</th>\n",
       "      <td>amen go home take a break immediately sis when...</td>\n",
       "      <td>0</td>\n",
       "    </tr>\n",
       "    <tr>\n",
       "      <th>...</th>\n",
       "      <td>...</td>\n",
       "      <td>...</td>\n",
       "    </tr>\n",
       "    <tr>\n",
       "      <th>4055</th>\n",
       "      <td>let s get vaccine booster ampoule url</td>\n",
       "      <td>0</td>\n",
       "    </tr>\n",
       "    <tr>\n",
       "      <th>4056</th>\n",
       "      <td>let s vaccine booster url</td>\n",
       "      <td>0</td>\n",
       "    </tr>\n",
       "    <tr>\n",
       "      <th>4057</th>\n",
       "      <td>yes yes yes yes kookmin jikook short au people...</td>\n",
       "      <td>1</td>\n",
       "    </tr>\n",
       "    <tr>\n",
       "      <th>4058</th>\n",
       "      <td>yes you are free to choose any booster vaccine...</td>\n",
       "      <td>1</td>\n",
       "    </tr>\n",
       "    <tr>\n",
       "      <th>4059</th>\n",
       "      <td>zoo knows that the cat hotel in bandung is not...</td>\n",
       "      <td>0</td>\n",
       "    </tr>\n",
       "  </tbody>\n",
       "</table>\n",
       "<p>4060 rows × 2 columns</p>\n",
       "</div>"
      ],
      "text/plain": [
       "                                                  tweet  sentiment\n",
       "0               i-i haven t had the booster vaccine yet          0\n",
       "1     aa already has the booster vaccine you can t s...          0\n",
       "2     amen allahumma amen for the prayers for the fa...          1\n",
       "3        amen tomorrow is a booster vaccine even though          0\n",
       "4     amen go home take a break immediately sis when...          0\n",
       "...                                                 ...        ...\n",
       "4055              let s get vaccine booster ampoule url          0\n",
       "4056                          let s vaccine booster url          0\n",
       "4057  yes yes yes yes kookmin jikook short au people...          1\n",
       "4058  yes you are free to choose any booster vaccine...          1\n",
       "4059  zoo knows that the cat hotel in bandung is not...          0\n",
       "\n",
       "[4060 rows x 2 columns]"
      ]
     },
     "execution_count": 13,
     "metadata": {},
     "output_type": "execute_result"
    }
   ],
   "source": [
    "df"
   ]
  },
  {
   "cell_type": "code",
   "execution_count": 14,
   "metadata": {},
   "outputs": [
    {
     "name": "stdout",
     "output_type": "stream",
     "text": [
      "(4060, 2)\n",
      "0    0.639409\n",
      "1    0.360591\n",
      "Name: sentiment, dtype: float64\n"
     ]
    }
   ],
   "source": [
    "print(df.shape)\n",
    "print(df['sentiment'].value_counts(normalize=True))"
   ]
  },
  {
   "cell_type": "code",
   "execution_count": 17,
   "metadata": {},
   "outputs": [],
   "source": [
    "from sklearn.model_selection import train_test_split, cross_val_score\n",
    "X = df['tweet']\n",
    "y = df['sentiment']\n",
    "\n",
    "x_train, x_test, y_train, y_test = train_test_split(X, y, test_size=0.1, random_state=0)"
   ]
  },
  {
   "cell_type": "code",
   "execution_count": 18,
   "metadata": {},
   "outputs": [
    {
     "name": "stdout",
     "output_type": "stream",
     "text": [
      "(3654, 6367)\n",
      "(406, 6367)\n",
      "(4060, 6367)\n"
     ]
    }
   ],
   "source": [
    "from sklearn.feature_extraction.text import TfidfVectorizer\n",
    "\n",
    "tfidf = TfidfVectorizer()\n",
    "\n",
    "x_train = tfidf.fit_transform(x_train)\n",
    "x_test = tfidf.transform(x_test)\n",
    "\n",
    "X = tfidf.transform(X)\n",
    "\n",
    "print(x_train.shape)\n",
    "print(x_test.shape)\n",
    "print(X.shape)"
   ]
  },
  {
   "cell_type": "code",
   "execution_count": 24,
   "metadata": {},
   "outputs": [
    {
     "name": "stdout",
     "output_type": "stream",
     "text": [
      "              precision    recall  f1-score   support\n",
      "\n",
      "           0       0.89      0.97      0.93       275\n",
      "           1       0.92      0.74      0.82       131\n",
      "\n",
      "    accuracy                           0.89       406\n",
      "   macro avg       0.90      0.85      0.87       406\n",
      "weighted avg       0.90      0.89      0.89       406\n",
      "\n",
      "prediksi hasil data testing : 0.8940886699507389\n",
      "Accuracy : 0.8940886699507389\n",
      "[0.84236453 0.84236453 0.86699507 0.87931034 0.83990148 0.83990148\n",
      " 0.84729064 0.84482759 0.85960591 0.83990148]\n",
      "0.850246305418719 0.013023944893007176\n"
     ]
    }
   ],
   "source": [
    "from sklearn.svm import SVC\n",
    "from sklearn.metrics import classification_report\n",
    "\n",
    "svm = SVC(kernel='linear', probability=True)\n",
    "svm.fit(x_train, y_train)\n",
    "\n",
    "y_pred = svm.predict(x_test)\n",
    "print(classification_report(y_test, y_pred))\n",
    "print('prediksi hasil data testing :', svm.score(x_test, y_test))\n",
    "print('Accuracy :', metrics.accuracy_score(y_test, y_pred))\n",
    "\n",
    "from numpy import mean\n",
    "from numpy import std\n",
    "from sklearn.datasets import make_classification\n",
    "from sklearn.model_selection import KFold, cross_val_score\n",
    "\n",
    "cv = KFold(n_splits=10, random_state=1, shuffle=True)\n",
    "\n",
    "scores = cross_val_score(svm, X, y, cv=cv, scoring='accuracy', n_jobs=-1)\n",
    "\n",
    "print(scores)\n",
    "print(mean(scores), std(scores))"
   ]
  },
  {
   "cell_type": "code",
   "execution_count": 20,
   "metadata": {},
   "outputs": [
    {
     "name": "stdout",
     "output_type": "stream",
     "text": [
      "[[266   9]\n",
      " [ 34  97]]\n"
     ]
    },
    {
     "data": {
      "image/png": "[encoded data removed]",
      "text/plain": [
       "<Figure size 576x360 with 2 Axes>"
      ]
     },
     "metadata": {
      "needs_background": "light"
     },
     "output_type": "display_data"
    },
    {
     "data": {
      "image/png": "[encoded data removed]",
      "text/plain": [
       "<Figure size 432x288 with 1 Axes>"
      ]
     },
     "metadata": {
      "needs_background": "light"
     },
     "output_type": "display_data"
    }
   ],
   "source": [
    "from sklearn.metrics import confusion_matrix\n",
    "\n",
    "conf_matrix = confusion_matrix(y_test, y_pred)\n",
    "print(conf_matrix)\n",
    "f, ax = plt.subplots(figsize=(8,5))\n",
    "sns.heatmap(conf_matrix, annot=True, fmt=\".0f\", ax=ax,cmap='crest')\n",
    "\n",
    "plt.title('SVM Confusion Matrix (Textblob)')\n",
    "plt.ylabel('True Label')\n",
    "plt.xlabel('Predicted Label')\n",
    "plt.savefig('confusionmatrix-svm-textblob.jpg', dpi=100)\n",
    "plt.show()\n",
    "\n",
    "\n",
    "from sklearn.metrics import roc_curve\n",
    "\n",
    "y_pred = svm.predict_proba(x_test)[::,1]\n",
    "test_fpr, test_tpr, _ = roc_curve(y_test, y_pred)\n",
    "auc = metrics.roc_auc_score(y_test, y_pred)\n",
    "\n",
    "plt.grid()\n",
    "\n",
    "plt.plot(test_fpr, test_tpr, label=\" AUC=\"+str(auc))\n",
    "plt.legend(loc=4)\n",
    "plt.xlabel(\"False Positive Rate\")\n",
    "plt.ylabel(\"True Positive Rate\")\n",
    "plt.title(\"AUC(ROC curve) Support Vectore Machine (Textblob)\")\n",
    "plt.grid(color='black', linestyle='-', linewidth=0.5)\n",
    "plt.savefig('roc-svm-textblob.jpg', dpi=100)\n",
    "plt.show()"
   ]
  },
  {
   "cell_type": "code",
   "execution_count": 23,
   "metadata": {},
   "outputs": [
    {
     "name": "stdout",
     "output_type": "stream",
     "text": [
      "[[264  11]\n",
      " [ 46  85]]\n",
      "              precision    recall  f1-score   support\n",
      "\n",
      "           0       0.85      0.96      0.90       275\n",
      "           1       0.89      0.65      0.75       131\n",
      "\n",
      "    accuracy                           0.86       406\n",
      "   macro avg       0.87      0.80      0.83       406\n",
      "weighted avg       0.86      0.86      0.85       406\n",
      "\n",
      "prediksi hasil data testing : 0.8596059113300493\n",
      "[0.80295567 0.82019704 0.83497537 0.8546798  0.80049261 0.81527094\n",
      " 0.83497537 0.83497537 0.83497537 0.81527094]\n",
      "0.8248768472906404 0.016055259593824908\n"
     ]
    },
    {
     "data": {
      "image/png": "[encoded data removed]",
      "text/plain": [
       "<Figure size 576x360 with 2 Axes>"
      ]
     },
     "metadata": {
      "needs_background": "light"
     },
     "output_type": "display_data"
    }
   ],
   "source": [
    "from sklearn import metrics\n",
    "from sklearn.ensemble import RandomForestClassifier\n",
    "from sklearn.metrics import confusion_matrix, classification_report\n",
    "\n",
    "rf= RandomForestClassifier(n_estimators=100)\n",
    "rf.fit(x_train, y_train)\n",
    "pred_rf = rf.predict(x_test)\n",
    "\n",
    "#BATAS \n",
    "matrix_rf = confusion_matrix(y_test, pred_rf)\n",
    "print(matrix_rf)\n",
    "\n",
    "print(classification_report(y_test, pred_rf))\n",
    "print('prediksi hasil data testing :', rf.score(x_test, y_test))\n",
    "\n",
    "from numpy import mean\n",
    "from numpy import std\n",
    "from sklearn.datasets import make_classification\n",
    "from sklearn.model_selection import KFold, cross_val_score\n",
    "\n",
    "# kfold cross validation\n",
    "cv = KFold(n_splits=10, random_state=1, shuffle=True)\n",
    "\n",
    "scores = cross_val_score(rf, X, y, cv=cv, scoring='accuracy', n_jobs=-1)\n",
    "\n",
    "print(scores)\n",
    "print(mean(scores), std(scores))\n",
    "\n",
    "f, ax = plt.subplots(figsize=(8,5))\n",
    "sns.heatmap(matrix_rf, annot=True, fmt=\".0f\", ax=ax,cmap='crest')\n",
    "\n",
    "plt.title('Random Forest Confusion Matrix (Textblob)')\n",
    "plt.ylabel('True Label')\n",
    "plt.xlabel('Predicted Label')\n",
    "plt.savefig('confusionmatrixrf-textblob.jpg', dpi=100)\n",
    "plt.show()\n",
    "\n",
    "# ROC CURVE\n"
   ]
  },
  {
   "cell_type": "code",
   "execution_count": 22,
   "metadata": {},
   "outputs": [
    {
     "data": {
      "image/png": "[encoded data removed]",
      "text/plain": [
       "<Figure size 432x288 with 1 Axes>"
      ]
     },
     "metadata": {
      "needs_background": "light"
     },
     "output_type": "display_data"
    }
   ],
   "source": [
    "y_pred_proba = rf.predict_proba(x_test)[::,1]\n",
    "fpr, tpr, _ = metrics.roc_curve(y_test, y_pred_proba)\n",
    "auc = metrics.roc_auc_score(y_test, y_pred_proba)\n",
    "\n",
    "plt.grid()\n",
    "\n",
    "plt.plot(fpr,tpr,label=\"AUC=\"+str(auc))\n",
    "plt.ylabel('True Positive Rate')\n",
    "plt.xlabel('False Positive Rate')\n",
    "plt.title(\"AUC(ROC curve) Random Forest (Textblob)\")\n",
    "plt.legend(loc=4)\n",
    "plt.savefig(\"roc-rf-textblob.jpg\", dpi=100)\n",
    "plt.show()"
   ]
  }
 ],
 "metadata": {
  "kernelspec": {
   "display_name": "Python 3.8.5 64-bit",
   "language": "python",
   "name": "python3"
  },
  "language_info": {
   "codemirror_mode": {
    "name": "ipython",
    "version": 3
   },
   "file_extension": ".py",
   "mimetype": "text/x-python",
   "name": "python",
   "nbconvert_exporter": "python",
   "pygments_lexer": "ipython3",
   "version": "3.8.5"
  },
  "orig_nbformat": 4,
  "vscode": {
   "interpreter": {
    "hash": "c2dc63e1dabafe051d7f8467f219ebffa43bf7b834ad89b8ac3ad85c47ad18d9"
   }
  }
 },
 "nbformat": 4,
 "nbformat_minor": 2
}
